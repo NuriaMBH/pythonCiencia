{
 "cells": [
  {
   "cell_type": "markdown",
   "metadata": {},
   "source": [
    "Me gustaria saber el numer de muertes totales y tambien saber el numero de muertes que hubo en la primera temporada"
   ]
  },
  {
   "cell_type": "markdown",
   "metadata": {},
   "source": [
    "1-queremos saber ( print) el numero de muertes de Daenerys Targaryen\n",
    "2-mostrar las muertes de Daenerys Targaryena en dataframe\n",
    "3- visualizar las muertes de Daenerys Targaryen por temporada\n",
    "4- mostrar la evolucion de nuestra asesina por temporada en un grafico de barras"
   ]
  },
  {
   "cell_type": "code",
   "execution_count": null,
   "metadata": {
    "vscode": {
     "languageId": "plaintext"
    }
   },
   "outputs": [],
   "source": []
  }
 ],
 "metadata": {
  "language_info": {
   "name": "python"
  }
 },
 "nbformat": 4,
 "nbformat_minor": 2
}
